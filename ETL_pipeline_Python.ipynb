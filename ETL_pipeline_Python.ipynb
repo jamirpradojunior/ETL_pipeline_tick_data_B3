{
 "cells": [
  {
   "cell_type": "markdown",
   "metadata": {},
   "source": [
    "# **Pipeline ETL usando Python**"
   ]
  },
  {
   "cell_type": "markdown",
   "metadata": {},
   "source": [
    "---\n",
    "\n",
    "Este código busca exemplificar um pipeline ETL (Extract, Transform, Load) usando Python. Mantive o formato .ipynb (notebook) para facilitar o acompanhamento da rotina por iniciantes. Ele está dividido em três etapas:\n",
    "\n",
    "1) Extração de múltiplos dados via webscraping;\n",
    "2) Transformação dos dados;\n",
    "3) Carregar os dados já estrurados para um database;"
   ]
  },
  {
   "cell_type": "markdown",
   "metadata": {},
   "source": [
    "Os principais comandos automatizados:\n",
    "* Checa os arquivos na pasta referência e seleciona as datas que já possuem dados;\n",
    "* Baixa as datas que não possuem dados (formato txt mas zipados);\n",
    "* Extrair os arquivos zip e depois os deleta;\n",
    "* Carrega os arquivos txt, transforma em parquet e deleta os txt;\n",
    "* Corrige o formatos de dados (str, float e datetime) e exclui colunas redundantes;\n",
    "* Salva os arquivos e faz um teste de integridade dos dados entre tabelas;\n",
    "* Faz a primeira carga num banco de dados SQL local;\n",
    "* Faz uma segunda carga (incremental) no banco de ados criado.\n"
   ]
  },
  {
   "cell_type": "markdown",
   "metadata": {},
   "source": [
    "Contexto:\n",
    "\n",
    "ETL é a sigla para Extract, Transform, Load, que em português pode ser traduzido como Extração, Transformação e Carga. ETL é um processo fundamental na engenharia de dados e amplamente utilizado em ambientes de Business Intelligence (BI) e Data Warehousing para consolidar dados de várias fontes em um único repositório, facilitando a análise e a tomada de decisões.\n",
    "\n",
    "---"
   ]
  },
  {
   "cell_type": "markdown",
   "metadata": {},
   "source": [
    "## 1. Extração"
   ]
  },
  {
   "cell_type": "markdown",
   "metadata": {},
   "source": [
    "### 1.1. Bibliotecas"
   ]
  },
  {
   "cell_type": "code",
   "execution_count": 1,
   "metadata": {},
   "outputs": [],
   "source": [
    "import os\n",
    "import wget\n",
    "import httplib2\n",
    "import shutil\n",
    "import zipfile\n",
    "import pyarrow\n",
    "import numpy as np\n",
    "import pandas as pd\n",
    "import datetime\n",
    "import sqlite3\n",
    "import mplfinance as mpf\n",
    "import plotly.graph_objects as go"
   ]
  },
  {
   "cell_type": "markdown",
   "metadata": {},
   "source": [
    "### 1.2. Fontes de dados (data sources)"
   ]
  },
  {
   "cell_type": "markdown",
   "metadata": {},
   "source": [
    "As fontes de dados são o ponto de partida de um pipeline ETL. Estas podem ser diversas e incluir bancos de dados, armazenamento em nuvem, logs de aplicações, APIs externas e mais.\n",
    "\n",
    "Neste estudo iremos extrair:\n",
    "\n",
    "* dados de negociações diárias da B3. Esses dados \"tick by tick\" mostram cada negociação realizada, incluindo quantidade, preço e agentes envolvidos. A B3 disponibiliza gratuitamente esses dados histórico dos últimos 20 dias úteis.\n",
    "\n",
    "https://www.b3.com.br/pt_br/market-data-e-indices/servicos-de-dados/market-data/cotacoes/cotacoes/\n",
    "\n",
    "* Glossário sobre as informações contidas nesses dados:\n",
    "\n",
    "https://www.b3.com.br/data/files/14/42/28/31/FEC4A8103234E0A8AC094EA8/Glossario_NegociosListados_PT.pdf\n",
    "\n",
    "* dados dos participantes das negociações B3\n",
    "\n",
    "https://sistemaswebb3-listados.b3.com.br/participantsPage/"
   ]
  },
  {
   "cell_type": "markdown",
   "metadata": {},
   "source": [
    "### 1.3. Extração"
   ]
  },
  {
   "cell_type": "markdown",
   "metadata": {},
   "source": [
    "A extração é a primeira etapa do processo ETL. Ela envolve a obtenção de dados das diversas fontes e armazena em um local centralizado para processamento. Os métodos de extração variam, incluindo processamento em lote (intervalos programados) ou streaming em tempo real"
   ]
  },
  {
   "cell_type": "markdown",
   "metadata": {},
   "source": [
    "Função download_b3_tick_by_tick\n",
    "1. Checar quais os arquivos já foram baixados;\n",
    "2. Fazer o filtro das datas do mês\n",
    "3. Checar se a data existe no site\n",
    "4. Se a data existe, baixar o arquivo .zip\n",
    "5. Deletar a pasta \".cache\" que é criada na execução desta função."
   ]
  },
  {
   "cell_type": "code",
   "execution_count": 2,
   "metadata": {},
   "outputs": [],
   "source": [
    "def download_b3_tick_by_tick(start=datetime.datetime(2024,1,1)):\n",
    "\n",
    "    folder_ref = os.getcwd()\n",
    "    files = os.listdir(folder_ref)\n",
    "    downloaded_files_zip = [i for i in files if i.endswith('.zip')]\n",
    "    downloaded_dates = [i.replace('B3_tick_', '').replace('.zip', '') for i in downloaded_files_zip]\n",
    "    downloaded_dates = pd.to_datetime(downloaded_dates)\n",
    "\n",
    "    date_range = pd.date_range(start.date(), datetime.datetime.now().date())\n",
    "    date_range_to_download = date_range[~date_range.isin(downloaded_dates)]\n",
    "    \n",
    "    for i in date_range_to_download:\n",
    "\n",
    "        try:\n",
    "            market_date = i.strftime('%Y-%m-%d')\n",
    "            url = f'https://arquivos.b3.com.br/apinegocios/tickercsv/{market_date}'\n",
    "            h = httplib2.Http('.cache')\n",
    "            response, content = h.request(f'https://arquivos.b3.com.br/apinegocios/tickercsv/{market_date}', headers={'Connection':'keep-alive'})\n",
    "            if len(content)>0:\n",
    "                response = wget.download(url, str('B3_tick_'+market_date+'.zip'))\n",
    "        \n",
    "        except:\n",
    "            None\n",
    "    \n",
    "    shutil.rmtree('.cache')"
   ]
  },
  {
   "cell_type": "markdown",
   "metadata": {},
   "source": [
    "Função unzip_files_delete\n",
    "\n",
    "1. Checar os arquivos dentro da pasta;\n",
    "2. Para cada arquivo da pasta, se terminar em \".zip\", extrair;\n",
    "3. Para cada arquivo da pasta, se terminar em \".zip\", deletar;"
   ]
  },
  {
   "cell_type": "code",
   "execution_count": 3,
   "metadata": {},
   "outputs": [],
   "source": [
    "def unzip_files_delete():\n",
    "\n",
    "    folder_ref = os.getcwd()\n",
    "    files = os.listdir(folder_ref)\n",
    "\n",
    "    for i in files:\n",
    "        if i.endswith('.zip'):\n",
    "            with zipfile.ZipFile(i, \"r\") as zip_ref:\n",
    "                zip_ref.extractall(folder_ref)\n",
    "    \n",
    "    for i in files:\n",
    "        if i.endswith('.zip'):\n",
    "            os.remove(i)"
   ]
  },
  {
   "cell_type": "markdown",
   "metadata": {},
   "source": [
    "Ler o arquivo csv dos participantes B3 (deve estar na pasta)"
   ]
  },
  {
   "cell_type": "code",
   "execution_count": 4,
   "metadata": {},
   "outputs": [],
   "source": [
    "codigo_participantes_B3 = pd.read_csv(\"participantDownload.csv\", sep=';')"
   ]
  },
  {
   "cell_type": "markdown",
   "metadata": {},
   "source": [
    "Executar as duas funções criadas"
   ]
  },
  {
   "cell_type": "code",
   "execution_count": 5,
   "metadata": {},
   "outputs": [],
   "source": [
    "download_b3_tick_by_tick(start=datetime.datetime(2024,7,1))\n",
    "unzip_files_delete()"
   ]
  },
  {
   "cell_type": "markdown",
   "metadata": {},
   "source": [
    "## 2. Transformação"
   ]
  },
  {
   "cell_type": "markdown",
   "metadata": {},
   "source": [
    "Os dados brutos obtidos na extração raramente são adequados para análise. A fase de transformação envolve a limpeza, enriquecimento e estruturação dos dados para torná-los utilizáveis para o propósito pretendido. Isso pode incluir tarefas como validação de dados, conversão de tipos de dados, desduplicação e agregação de dados de diferentes fontes."
   ]
  },
  {
   "cell_type": "markdown",
   "metadata": {},
   "source": [
    "### 2.1. Transformar os dados txt em parquet (economia de espaço no drive > 70%)"
   ]
  },
  {
   "cell_type": "markdown",
   "metadata": {},
   "source": [
    "Função convert_to_parquet:\n",
    "\n",
    "1. Listar os arquivos txt (dados negociações diárias) na pasta;\n",
    "2. Carregar cada arquivo txt como dataframe;\n",
    "3. Exportar no formato parquet, otimizando o nome do arquivo para formato Ano/Mês/Dia;\n",
    "3. Deletar os arquivos txt;"
   ]
  },
  {
   "cell_type": "code",
   "execution_count": 6,
   "metadata": {},
   "outputs": [],
   "source": [
    "folder_ref = os.getcwd()\n",
    "files = os.listdir(folder_ref)\n",
    "files_txt = [i for i in files if i.endswith('.txt')]\n",
    "\n",
    "for i in files_txt:\n",
    "    df = pd.read_csv(i, sep=\";\")\n",
    "    df.to_parquet('raw_'+str(i[6:10] + '_' + i[3:5] + '_' + i[0:2] + '_' + 'tick_B3.parquet'))\n",
    "\n",
    "for i in files_txt:\n",
    "    os.remove(i)"
   ]
  },
  {
   "cell_type": "markdown",
   "metadata": {},
   "source": [
    "### 2.2. Exploração dos \"problemas\" nos dados"
   ]
  },
  {
   "cell_type": "markdown",
   "metadata": {},
   "source": [
    "Esta etapa usualmente não entra no pipeline, já que o engenheiro de dados já explorou os potenciais problemas dos dados para fazer a limpeza, enriquecimento e estruturação dos dados.\n",
    "\n",
    "Mas para melhor entendimento, vamos começar lendo um dos arquivos de negociações diárias para conhecer um pouco sobre os dados"
   ]
  },
  {
   "cell_type": "markdown",
   "metadata": {},
   "source": [
    "### 2.2.1. Dados de negociações diárias"
   ]
  },
  {
   "cell_type": "code",
   "execution_count": 7,
   "metadata": {},
   "outputs": [
    {
     "data": {
      "text/html": [
       "<div>\n",
       "<style scoped>\n",
       "    .dataframe tbody tr th:only-of-type {\n",
       "        vertical-align: middle;\n",
       "    }\n",
       "\n",
       "    .dataframe tbody tr th {\n",
       "        vertical-align: top;\n",
       "    }\n",
       "\n",
       "    .dataframe thead th {\n",
       "        text-align: right;\n",
       "    }\n",
       "</style>\n",
       "<table border=\"1\" class=\"dataframe\">\n",
       "  <thead>\n",
       "    <tr style=\"text-align: right;\">\n",
       "      <th></th>\n",
       "      <th>DataReferencia</th>\n",
       "      <th>CodigoInstrumento</th>\n",
       "      <th>AcaoAtualizacao</th>\n",
       "      <th>PrecoNegocio</th>\n",
       "      <th>QuantidadeNegociada</th>\n",
       "      <th>HoraFechamento</th>\n",
       "      <th>CodigoIdentificadorNegocio</th>\n",
       "      <th>TipoSessaoPregao</th>\n",
       "      <th>DataNegocio</th>\n",
       "      <th>CodigoParticipanteComprador</th>\n",
       "      <th>CodigoParticipanteVendedor</th>\n",
       "    </tr>\n",
       "  </thead>\n",
       "  <tbody>\n",
       "    <tr>\n",
       "      <th>0</th>\n",
       "      <td>2024-07-04</td>\n",
       "      <td>TF583R</td>\n",
       "      <td>0</td>\n",
       "      <td>10,000</td>\n",
       "      <td>10000</td>\n",
       "      <td>30136837</td>\n",
       "      <td>10</td>\n",
       "      <td>1</td>\n",
       "      <td>2024-07-04</td>\n",
       "      <td>100.0</td>\n",
       "      <td>100.0</td>\n",
       "    </tr>\n",
       "    <tr>\n",
       "      <th>1</th>\n",
       "      <td>2024-07-04</td>\n",
       "      <td>WSPU24</td>\n",
       "      <td>0</td>\n",
       "      <td>5598,250</td>\n",
       "      <td>1</td>\n",
       "      <td>90000007</td>\n",
       "      <td>10</td>\n",
       "      <td>1</td>\n",
       "      <td>2024-07-04</td>\n",
       "      <td>3.0</td>\n",
       "      <td>3.0</td>\n",
       "    </tr>\n",
       "    <tr>\n",
       "      <th>2</th>\n",
       "      <td>2024-07-04</td>\n",
       "      <td>BGIN24</td>\n",
       "      <td>0</td>\n",
       "      <td>235,050</td>\n",
       "      <td>2</td>\n",
       "      <td>90000463</td>\n",
       "      <td>50</td>\n",
       "      <td>1</td>\n",
       "      <td>2024-07-04</td>\n",
       "      <td>NaN</td>\n",
       "      <td>NaN</td>\n",
       "    </tr>\n",
       "    <tr>\n",
       "      <th>3</th>\n",
       "      <td>2024-07-04</td>\n",
       "      <td>CCMN24</td>\n",
       "      <td>0</td>\n",
       "      <td>56,300</td>\n",
       "      <td>1</td>\n",
       "      <td>90000517</td>\n",
       "      <td>230</td>\n",
       "      <td>1</td>\n",
       "      <td>2024-07-04</td>\n",
       "      <td>NaN</td>\n",
       "      <td>NaN</td>\n",
       "    </tr>\n",
       "    <tr>\n",
       "      <th>4</th>\n",
       "      <td>2024-07-04</td>\n",
       "      <td>CCMN24</td>\n",
       "      <td>0</td>\n",
       "      <td>56,140</td>\n",
       "      <td>1</td>\n",
       "      <td>90000547</td>\n",
       "      <td>240</td>\n",
       "      <td>1</td>\n",
       "      <td>2024-07-04</td>\n",
       "      <td>NaN</td>\n",
       "      <td>NaN</td>\n",
       "    </tr>\n",
       "    <tr>\n",
       "      <th>...</th>\n",
       "      <td>...</td>\n",
       "      <td>...</td>\n",
       "      <td>...</td>\n",
       "      <td>...</td>\n",
       "      <td>...</td>\n",
       "      <td>...</td>\n",
       "      <td>...</td>\n",
       "      <td>...</td>\n",
       "      <td>...</td>\n",
       "      <td>...</td>\n",
       "      <td>...</td>\n",
       "    </tr>\n",
       "    <tr>\n",
       "      <th>7867012</th>\n",
       "      <td>2024-07-04</td>\n",
       "      <td>INDQ24</td>\n",
       "      <td>0</td>\n",
       "      <td>127510,000</td>\n",
       "      <td>5</td>\n",
       "      <td>183118570</td>\n",
       "      <td>94990</td>\n",
       "      <td>1</td>\n",
       "      <td>2024-07-04</td>\n",
       "      <td>88.0</td>\n",
       "      <td>107.0</td>\n",
       "    </tr>\n",
       "    <tr>\n",
       "      <th>7867013</th>\n",
       "      <td>2024-07-04</td>\n",
       "      <td>INDQ24</td>\n",
       "      <td>0</td>\n",
       "      <td>127510,000</td>\n",
       "      <td>5</td>\n",
       "      <td>183118570</td>\n",
       "      <td>95000</td>\n",
       "      <td>1</td>\n",
       "      <td>2024-07-04</td>\n",
       "      <td>88.0</td>\n",
       "      <td>107.0</td>\n",
       "    </tr>\n",
       "    <tr>\n",
       "      <th>7867014</th>\n",
       "      <td>2024-07-04</td>\n",
       "      <td>INDQ24</td>\n",
       "      <td>0</td>\n",
       "      <td>127510,000</td>\n",
       "      <td>5</td>\n",
       "      <td>183118570</td>\n",
       "      <td>95010</td>\n",
       "      <td>1</td>\n",
       "      <td>2024-07-04</td>\n",
       "      <td>83.0</td>\n",
       "      <td>107.0</td>\n",
       "    </tr>\n",
       "    <tr>\n",
       "      <th>7867015</th>\n",
       "      <td>2024-07-04</td>\n",
       "      <td>INDQ24</td>\n",
       "      <td>0</td>\n",
       "      <td>127510,000</td>\n",
       "      <td>5</td>\n",
       "      <td>183118570</td>\n",
       "      <td>95020</td>\n",
       "      <td>1</td>\n",
       "      <td>2024-07-04</td>\n",
       "      <td>308.0</td>\n",
       "      <td>107.0</td>\n",
       "    </tr>\n",
       "    <tr>\n",
       "      <th>7867016</th>\n",
       "      <td>2024-07-04</td>\n",
       "      <td>INDQ24</td>\n",
       "      <td>0</td>\n",
       "      <td>127510,000</td>\n",
       "      <td>5</td>\n",
       "      <td>183118570</td>\n",
       "      <td>95030</td>\n",
       "      <td>1</td>\n",
       "      <td>2024-07-04</td>\n",
       "      <td>308.0</td>\n",
       "      <td>93.0</td>\n",
       "    </tr>\n",
       "  </tbody>\n",
       "</table>\n",
       "<p>7867017 rows × 11 columns</p>\n",
       "</div>"
      ],
      "text/plain": [
       "        DataReferencia CodigoInstrumento  AcaoAtualizacao PrecoNegocio  \\\n",
       "0           2024-07-04            TF583R                0       10,000   \n",
       "1           2024-07-04            WSPU24                0     5598,250   \n",
       "2           2024-07-04            BGIN24                0      235,050   \n",
       "3           2024-07-04            CCMN24                0       56,300   \n",
       "4           2024-07-04            CCMN24                0       56,140   \n",
       "...                ...               ...              ...          ...   \n",
       "7867012     2024-07-04            INDQ24                0   127510,000   \n",
       "7867013     2024-07-04            INDQ24                0   127510,000   \n",
       "7867014     2024-07-04            INDQ24                0   127510,000   \n",
       "7867015     2024-07-04            INDQ24                0   127510,000   \n",
       "7867016     2024-07-04            INDQ24                0   127510,000   \n",
       "\n",
       "         QuantidadeNegociada  HoraFechamento  CodigoIdentificadorNegocio  \\\n",
       "0                      10000        30136837                          10   \n",
       "1                          1        90000007                          10   \n",
       "2                          2        90000463                          50   \n",
       "3                          1        90000517                         230   \n",
       "4                          1        90000547                         240   \n",
       "...                      ...             ...                         ...   \n",
       "7867012                    5       183118570                       94990   \n",
       "7867013                    5       183118570                       95000   \n",
       "7867014                    5       183118570                       95010   \n",
       "7867015                    5       183118570                       95020   \n",
       "7867016                    5       183118570                       95030   \n",
       "\n",
       "         TipoSessaoPregao DataNegocio  CodigoParticipanteComprador  \\\n",
       "0                       1  2024-07-04                        100.0   \n",
       "1                       1  2024-07-04                          3.0   \n",
       "2                       1  2024-07-04                          NaN   \n",
       "3                       1  2024-07-04                          NaN   \n",
       "4                       1  2024-07-04                          NaN   \n",
       "...                   ...         ...                          ...   \n",
       "7867012                 1  2024-07-04                         88.0   \n",
       "7867013                 1  2024-07-04                         88.0   \n",
       "7867014                 1  2024-07-04                         83.0   \n",
       "7867015                 1  2024-07-04                        308.0   \n",
       "7867016                 1  2024-07-04                        308.0   \n",
       "\n",
       "         CodigoParticipanteVendedor  \n",
       "0                             100.0  \n",
       "1                               3.0  \n",
       "2                               NaN  \n",
       "3                               NaN  \n",
       "4                               NaN  \n",
       "...                             ...  \n",
       "7867012                       107.0  \n",
       "7867013                       107.0  \n",
       "7867014                       107.0  \n",
       "7867015                       107.0  \n",
       "7867016                        93.0  \n",
       "\n",
       "[7867017 rows x 11 columns]"
      ]
     },
     "execution_count": 7,
     "metadata": {},
     "output_type": "execute_result"
    }
   ],
   "source": [
    "df_tick_dia1 = pd.read_parquet('raw_2024_07_04_tick_B3.parquet', engine='pyarrow')\n",
    "df_tick_dia1"
   ]
  },
  {
   "cell_type": "markdown",
   "metadata": {},
   "source": [
    "Note que temos quase 8 milhões de linhas e 11 colunas! Explorar algumas características e potenciais problemas nos dados"
   ]
  },
  {
   "cell_type": "markdown",
   "metadata": {},
   "source": [
    "#### 2.2.1.1. Problema: tipo dos dados no dataframe (Dtype)"
   ]
  },
  {
   "cell_type": "code",
   "execution_count": 8,
   "metadata": {},
   "outputs": [
    {
     "name": "stdout",
     "output_type": "stream",
     "text": [
      "<class 'pandas.core.frame.DataFrame'>\n",
      "RangeIndex: 7867017 entries, 0 to 7867016\n",
      "Data columns (total 11 columns):\n",
      " #   Column                       Dtype  \n",
      "---  ------                       -----  \n",
      " 0   DataReferencia               object \n",
      " 1   CodigoInstrumento            object \n",
      " 2   AcaoAtualizacao              int64  \n",
      " 3   PrecoNegocio                 object \n",
      " 4   QuantidadeNegociada          int64  \n",
      " 5   HoraFechamento               int64  \n",
      " 6   CodigoIdentificadorNegocio   int64  \n",
      " 7   TipoSessaoPregao             int64  \n",
      " 8   DataNegocio                  object \n",
      " 9   CodigoParticipanteComprador  float64\n",
      " 10  CodigoParticipanteVendedor   float64\n",
      "dtypes: float64(2), int64(5), object(4)\n",
      "memory usage: 660.2+ MB\n"
     ]
    }
   ],
   "source": [
    "df_tick_dia1.info()"
   ]
  },
  {
   "cell_type": "markdown",
   "metadata": {},
   "source": [
    "#### 2.2.1.2. Problema: coluna \"PrecoNegocio\" com divisor decimal como \"vírgula\""
   ]
  },
  {
   "cell_type": "code",
   "execution_count": 9,
   "metadata": {},
   "outputs": [
    {
     "data": {
      "text/html": [
       "<div>\n",
       "<style scoped>\n",
       "    .dataframe tbody tr th:only-of-type {\n",
       "        vertical-align: middle;\n",
       "    }\n",
       "\n",
       "    .dataframe tbody tr th {\n",
       "        vertical-align: top;\n",
       "    }\n",
       "\n",
       "    .dataframe thead th {\n",
       "        text-align: right;\n",
       "    }\n",
       "</style>\n",
       "<table border=\"1\" class=\"dataframe\">\n",
       "  <thead>\n",
       "    <tr style=\"text-align: right;\">\n",
       "      <th></th>\n",
       "      <th>DataReferencia</th>\n",
       "      <th>CodigoInstrumento</th>\n",
       "      <th>AcaoAtualizacao</th>\n",
       "      <th>PrecoNegocio</th>\n",
       "      <th>QuantidadeNegociada</th>\n",
       "      <th>HoraFechamento</th>\n",
       "      <th>CodigoIdentificadorNegocio</th>\n",
       "      <th>TipoSessaoPregao</th>\n",
       "      <th>DataNegocio</th>\n",
       "      <th>CodigoParticipanteComprador</th>\n",
       "      <th>CodigoParticipanteVendedor</th>\n",
       "    </tr>\n",
       "  </thead>\n",
       "  <tbody>\n",
       "    <tr>\n",
       "      <th>0</th>\n",
       "      <td>2024-07-04</td>\n",
       "      <td>TF583R</td>\n",
       "      <td>0</td>\n",
       "      <td>10,000</td>\n",
       "      <td>10000</td>\n",
       "      <td>30136837</td>\n",
       "      <td>10</td>\n",
       "      <td>1</td>\n",
       "      <td>2024-07-04</td>\n",
       "      <td>100.0</td>\n",
       "      <td>100.0</td>\n",
       "    </tr>\n",
       "    <tr>\n",
       "      <th>1</th>\n",
       "      <td>2024-07-04</td>\n",
       "      <td>WSPU24</td>\n",
       "      <td>0</td>\n",
       "      <td>5598,250</td>\n",
       "      <td>1</td>\n",
       "      <td>90000007</td>\n",
       "      <td>10</td>\n",
       "      <td>1</td>\n",
       "      <td>2024-07-04</td>\n",
       "      <td>3.0</td>\n",
       "      <td>3.0</td>\n",
       "    </tr>\n",
       "    <tr>\n",
       "      <th>2</th>\n",
       "      <td>2024-07-04</td>\n",
       "      <td>BGIN24</td>\n",
       "      <td>0</td>\n",
       "      <td>235,050</td>\n",
       "      <td>2</td>\n",
       "      <td>90000463</td>\n",
       "      <td>50</td>\n",
       "      <td>1</td>\n",
       "      <td>2024-07-04</td>\n",
       "      <td>NaN</td>\n",
       "      <td>NaN</td>\n",
       "    </tr>\n",
       "    <tr>\n",
       "      <th>3</th>\n",
       "      <td>2024-07-04</td>\n",
       "      <td>CCMN24</td>\n",
       "      <td>0</td>\n",
       "      <td>56,300</td>\n",
       "      <td>1</td>\n",
       "      <td>90000517</td>\n",
       "      <td>230</td>\n",
       "      <td>1</td>\n",
       "      <td>2024-07-04</td>\n",
       "      <td>NaN</td>\n",
       "      <td>NaN</td>\n",
       "    </tr>\n",
       "    <tr>\n",
       "      <th>4</th>\n",
       "      <td>2024-07-04</td>\n",
       "      <td>CCMN24</td>\n",
       "      <td>0</td>\n",
       "      <td>56,140</td>\n",
       "      <td>1</td>\n",
       "      <td>90000547</td>\n",
       "      <td>240</td>\n",
       "      <td>1</td>\n",
       "      <td>2024-07-04</td>\n",
       "      <td>NaN</td>\n",
       "      <td>NaN</td>\n",
       "    </tr>\n",
       "  </tbody>\n",
       "</table>\n",
       "</div>"
      ],
      "text/plain": [
       "  DataReferencia CodigoInstrumento  AcaoAtualizacao PrecoNegocio  \\\n",
       "0     2024-07-04            TF583R                0       10,000   \n",
       "1     2024-07-04            WSPU24                0     5598,250   \n",
       "2     2024-07-04            BGIN24                0      235,050   \n",
       "3     2024-07-04            CCMN24                0       56,300   \n",
       "4     2024-07-04            CCMN24                0       56,140   \n",
       "\n",
       "   QuantidadeNegociada  HoraFechamento  CodigoIdentificadorNegocio  \\\n",
       "0                10000        30136837                          10   \n",
       "1                    1        90000007                          10   \n",
       "2                    2        90000463                          50   \n",
       "3                    1        90000517                         230   \n",
       "4                    1        90000547                         240   \n",
       "\n",
       "   TipoSessaoPregao DataNegocio  CodigoParticipanteComprador  \\\n",
       "0                 1  2024-07-04                        100.0   \n",
       "1                 1  2024-07-04                          3.0   \n",
       "2                 1  2024-07-04                          NaN   \n",
       "3                 1  2024-07-04                          NaN   \n",
       "4                 1  2024-07-04                          NaN   \n",
       "\n",
       "   CodigoParticipanteVendedor  \n",
       "0                       100.0  \n",
       "1                         3.0  \n",
       "2                         NaN  \n",
       "3                         NaN  \n",
       "4                         NaN  "
      ]
     },
     "execution_count": 9,
     "metadata": {},
     "output_type": "execute_result"
    }
   ],
   "source": [
    "df_tick_dia1.head()"
   ]
  },
  {
   "cell_type": "markdown",
   "metadata": {},
   "source": [
    "#### 2.2.1.3. Problema: colunas com informações redundantes ou pouco úteis"
   ]
  },
  {
   "cell_type": "markdown",
   "metadata": {},
   "source": [
    "A coluna \"AcaoAtualizacao\" informa se o negócio foi cancelado. O valor default é 0, sendo 2 para negócio cancelado. Veja no próximo output que são raros os negócios cancelados, mas de qualquer forma excluiremos as linhas com AcaoAtualizacao=2 na etapa de limpeza"
   ]
  },
  {
   "cell_type": "code",
   "execution_count": 10,
   "metadata": {},
   "outputs": [
    {
     "data": {
      "text/html": [
       "<div>\n",
       "<style scoped>\n",
       "    .dataframe tbody tr th:only-of-type {\n",
       "        vertical-align: middle;\n",
       "    }\n",
       "\n",
       "    .dataframe tbody tr th {\n",
       "        vertical-align: top;\n",
       "    }\n",
       "\n",
       "    .dataframe thead th {\n",
       "        text-align: right;\n",
       "    }\n",
       "</style>\n",
       "<table border=\"1\" class=\"dataframe\">\n",
       "  <thead>\n",
       "    <tr style=\"text-align: right;\">\n",
       "      <th></th>\n",
       "      <th>DataReferencia</th>\n",
       "      <th>CodigoInstrumento</th>\n",
       "      <th>AcaoAtualizacao</th>\n",
       "      <th>PrecoNegocio</th>\n",
       "      <th>QuantidadeNegociada</th>\n",
       "      <th>HoraFechamento</th>\n",
       "      <th>CodigoIdentificadorNegocio</th>\n",
       "      <th>TipoSessaoPregao</th>\n",
       "      <th>DataNegocio</th>\n",
       "      <th>CodigoParticipanteComprador</th>\n",
       "      <th>CodigoParticipanteVendedor</th>\n",
       "    </tr>\n",
       "  </thead>\n",
       "  <tbody>\n",
       "    <tr>\n",
       "      <th>2250003</th>\n",
       "      <td>2024-07-04</td>\n",
       "      <td>DI1F26</td>\n",
       "      <td>2</td>\n",
       "      <td>11,340</td>\n",
       "      <td>2790</td>\n",
       "      <td>104952817</td>\n",
       "      <td>102410</td>\n",
       "      <td>1</td>\n",
       "      <td>2024-07-04</td>\n",
       "      <td>NaN</td>\n",
       "      <td>NaN</td>\n",
       "    </tr>\n",
       "    <tr>\n",
       "      <th>3094794</th>\n",
       "      <td>2024-07-04</td>\n",
       "      <td>IBOVG130</td>\n",
       "      <td>2</td>\n",
       "      <td>255,000</td>\n",
       "      <td>320</td>\n",
       "      <td>112412370</td>\n",
       "      <td>10</td>\n",
       "      <td>1</td>\n",
       "      <td>2024-07-04</td>\n",
       "      <td>NaN</td>\n",
       "      <td>NaN</td>\n",
       "    </tr>\n",
       "    <tr>\n",
       "      <th>4972047</th>\n",
       "      <td>2024-07-04</td>\n",
       "      <td>DI1F28</td>\n",
       "      <td>2</td>\n",
       "      <td>11,890</td>\n",
       "      <td>1000</td>\n",
       "      <td>132240687</td>\n",
       "      <td>80090</td>\n",
       "      <td>1</td>\n",
       "      <td>2024-07-04</td>\n",
       "      <td>NaN</td>\n",
       "      <td>NaN</td>\n",
       "    </tr>\n",
       "    <tr>\n",
       "      <th>5994595</th>\n",
       "      <td>2024-07-04</td>\n",
       "      <td>DIFF26F27</td>\n",
       "      <td>2</td>\n",
       "      <td>12,130</td>\n",
       "      <td>1900</td>\n",
       "      <td>144042400</td>\n",
       "      <td>10</td>\n",
       "      <td>1</td>\n",
       "      <td>2024-07-04</td>\n",
       "      <td>NaN</td>\n",
       "      <td>NaN</td>\n",
       "    </tr>\n",
       "    <tr>\n",
       "      <th>6004891</th>\n",
       "      <td>2024-07-04</td>\n",
       "      <td>DIFF25F26</td>\n",
       "      <td>2</td>\n",
       "      <td>11,690</td>\n",
       "      <td>685</td>\n",
       "      <td>144146357</td>\n",
       "      <td>10</td>\n",
       "      <td>1</td>\n",
       "      <td>2024-07-04</td>\n",
       "      <td>NaN</td>\n",
       "      <td>NaN</td>\n",
       "    </tr>\n",
       "    <tr>\n",
       "      <th>7200710</th>\n",
       "      <td>2024-07-04</td>\n",
       "      <td>SBSPT817</td>\n",
       "      <td>2</td>\n",
       "      <td>3,570</td>\n",
       "      <td>160000</td>\n",
       "      <td>161838593</td>\n",
       "      <td>90</td>\n",
       "      <td>1</td>\n",
       "      <td>2024-07-04</td>\n",
       "      <td>NaN</td>\n",
       "      <td>NaN</td>\n",
       "    </tr>\n",
       "    <tr>\n",
       "      <th>7756636</th>\n",
       "      <td>2024-07-04</td>\n",
       "      <td>RDORA370</td>\n",
       "      <td>2</td>\n",
       "      <td>0,750</td>\n",
       "      <td>820000</td>\n",
       "      <td>172137407</td>\n",
       "      <td>10</td>\n",
       "      <td>1</td>\n",
       "      <td>2024-07-04</td>\n",
       "      <td>NaN</td>\n",
       "      <td>NaN</td>\n",
       "    </tr>\n",
       "  </tbody>\n",
       "</table>\n",
       "</div>"
      ],
      "text/plain": [
       "        DataReferencia CodigoInstrumento  AcaoAtualizacao PrecoNegocio  \\\n",
       "2250003     2024-07-04            DI1F26                2       11,340   \n",
       "3094794     2024-07-04          IBOVG130                2      255,000   \n",
       "4972047     2024-07-04            DI1F28                2       11,890   \n",
       "5994595     2024-07-04         DIFF26F27                2       12,130   \n",
       "6004891     2024-07-04         DIFF25F26                2       11,690   \n",
       "7200710     2024-07-04          SBSPT817                2        3,570   \n",
       "7756636     2024-07-04          RDORA370                2        0,750   \n",
       "\n",
       "         QuantidadeNegociada  HoraFechamento  CodigoIdentificadorNegocio  \\\n",
       "2250003                 2790       104952817                      102410   \n",
       "3094794                  320       112412370                          10   \n",
       "4972047                 1000       132240687                       80090   \n",
       "5994595                 1900       144042400                          10   \n",
       "6004891                  685       144146357                          10   \n",
       "7200710               160000       161838593                          90   \n",
       "7756636               820000       172137407                          10   \n",
       "\n",
       "         TipoSessaoPregao DataNegocio  CodigoParticipanteComprador  \\\n",
       "2250003                 1  2024-07-04                          NaN   \n",
       "3094794                 1  2024-07-04                          NaN   \n",
       "4972047                 1  2024-07-04                          NaN   \n",
       "5994595                 1  2024-07-04                          NaN   \n",
       "6004891                 1  2024-07-04                          NaN   \n",
       "7200710                 1  2024-07-04                          NaN   \n",
       "7756636                 1  2024-07-04                          NaN   \n",
       "\n",
       "         CodigoParticipanteVendedor  \n",
       "2250003                         NaN  \n",
       "3094794                         NaN  \n",
       "4972047                         NaN  \n",
       "5994595                         NaN  \n",
       "6004891                         NaN  \n",
       "7200710                         NaN  \n",
       "7756636                         NaN  "
      ]
     },
     "execution_count": 10,
     "metadata": {},
     "output_type": "execute_result"
    }
   ],
   "source": [
    "df_tick_dia1[df_tick_dia1.AcaoAtualizacao!=0]"
   ]
  },
  {
   "cell_type": "markdown",
   "metadata": {},
   "source": [
    "Observe abaixo que as colunas \"DataReferencia\" e \"DataNegocio\" diferem mt pouco, apenas para ativos de commodities e em poucos casos. Remover essa redundância mantendo apenas \"DataReferencia\".\n",
    "Outras colunas como \"CodigoIdentificadorNegocio\" e \"TipoSessaoPregao\" não agregarão informações úteis ao nossas análises e serão removidas"
   ]
  },
  {
   "cell_type": "code",
   "execution_count": 11,
   "metadata": {},
   "outputs": [
    {
     "name": "stdout",
     "output_type": "stream",
     "text": [
      "\"DataReferencia\" difere da \"DataNegocio\" em apenas 279 linhas\n"
     ]
    },
    {
     "data": {
      "text/plain": [
       "{'BGIF25',\n",
       " 'BGIN24',\n",
       " 'BGIQ24',\n",
       " 'BGIU24',\n",
       " 'BGIV24',\n",
       " 'BGIX24',\n",
       " 'BGIZ24',\n",
       " 'CCMN24',\n",
       " 'CCMU24',\n",
       " 'CCMX24',\n",
       " 'ETHN24',\n",
       " 'FRP1',\n",
       " 'ICFU24',\n",
       " 'ICFZ24'}"
      ]
     },
     "execution_count": 11,
     "metadata": {},
     "output_type": "execute_result"
    }
   ],
   "source": [
    "print('\"DataReferencia\" difere da \"DataNegocio\" em apenas', (df_tick_dia1.DataReferencia != df_tick_dia1.DataNegocio).sum(), 'linhas')\n",
    "set(df_tick_dia1[df_tick_dia1.DataReferencia != df_tick_dia1.DataNegocio]['CodigoInstrumento'])"
   ]
  },
  {
   "cell_type": "markdown",
   "metadata": {},
   "source": [
    "#### 2.2.1.4. Problema: coluna \"HoraFechamento\" em HHMMSSNNN"
   ]
  },
  {
   "cell_type": "markdown",
   "metadata": {},
   "source": [
    "Dados como inteiros e assim, horários antes das 10h possui um número a menos. Os milisegundos também não trazem informações úteis para esse estudo"
   ]
  },
  {
   "cell_type": "code",
   "execution_count": 12,
   "metadata": {},
   "outputs": [
    {
     "data": {
      "text/plain": [
       "0           30136837\n",
       "1           90000007\n",
       "2           90000463\n",
       "3           90000517\n",
       "4           90000547\n",
       "             ...    \n",
       "7867012    183118570\n",
       "7867013    183118570\n",
       "7867014    183118570\n",
       "7867015    183118570\n",
       "7867016    183118570\n",
       "Name: HoraFechamento, Length: 7867017, dtype: int64"
      ]
     },
     "execution_count": 12,
     "metadata": {},
     "output_type": "execute_result"
    }
   ],
   "source": [
    "df_tick_dia1['HoraFechamento']"
   ]
  },
  {
   "cell_type": "markdown",
   "metadata": {},
   "source": [
    "### 2.2.2. Dados dos participantes"
   ]
  },
  {
   "cell_type": "markdown",
   "metadata": {},
   "source": [
    "Nesses dados, estamos buscando apenas as colunas \"Nome\" e \"Código\". O nome indica o participante B3 e o código faz referência aos dados de negociações (colunas \"CodigoParticipanteComprador\", \"CodigoParticipanteVendedor\")\n",
    "\n",
    "Note que um mesmo agente tem vários códigos, inclusive dentro de uma mesma célula. Precisaremos apenas dos participantes com Perfil \"PARTICIPANTE DE NEGOCIAÇÃO PLENO\""
   ]
  },
  {
   "cell_type": "code",
   "execution_count": 13,
   "metadata": {},
   "outputs": [
    {
     "data": {
      "text/html": [
       "<div>\n",
       "<style scoped>\n",
       "    .dataframe tbody tr th:only-of-type {\n",
       "        vertical-align: middle;\n",
       "    }\n",
       "\n",
       "    .dataframe tbody tr th {\n",
       "        vertical-align: top;\n",
       "    }\n",
       "\n",
       "    .dataframe thead th {\n",
       "        text-align: right;\n",
       "    }\n",
       "</style>\n",
       "<table border=\"1\" class=\"dataframe\">\n",
       "  <thead>\n",
       "    <tr style=\"text-align: right;\">\n",
       "      <th></th>\n",
       "      <th>CNPJ</th>\n",
       "      <th>Nome</th>\n",
       "      <th>Site</th>\n",
       "      <th>Perfil</th>\n",
       "      <th>Código</th>\n",
       "    </tr>\n",
       "  </thead>\n",
       "  <tbody>\n",
       "    <tr>\n",
       "      <th>0</th>\n",
       "      <td>191</td>\n",
       "      <td>BANCO DO BRASIL S/A</td>\n",
       "      <td>www.bb.com.br</td>\n",
       "      <td>ADMINISTRADOR iMERCADO</td>\n",
       "      <td>1124 - 2659</td>\n",
       "    </tr>\n",
       "    <tr>\n",
       "      <th>1</th>\n",
       "      <td>191</td>\n",
       "      <td>BANCO DO BRASIL S/A</td>\n",
       "      <td>www.bb.com.br</td>\n",
       "      <td>AGENTE DE CUSTÓDIA</td>\n",
       "      <td>254 - 705 - 1123 - 1124 - 1126 - 1345 - 2659 -...</td>\n",
       "    </tr>\n",
       "    <tr>\n",
       "      <th>2</th>\n",
       "      <td>191</td>\n",
       "      <td>BANCO DO BRASIL S/A</td>\n",
       "      <td>www.bb.com.br</td>\n",
       "      <td>CUSTODIANTE BALCÃO</td>\n",
       "      <td>254 - 1123</td>\n",
       "    </tr>\n",
       "    <tr>\n",
       "      <th>3</th>\n",
       "      <td>191</td>\n",
       "      <td>BANCO DO BRASIL S/A</td>\n",
       "      <td>www.bb.com.br</td>\n",
       "      <td>EMITENTE DE GARANTIAS</td>\n",
       "      <td>10001</td>\n",
       "    </tr>\n",
       "    <tr>\n",
       "      <th>4</th>\n",
       "      <td>191</td>\n",
       "      <td>BANCO DO BRASIL S/A</td>\n",
       "      <td>www.bb.com.br</td>\n",
       "      <td>ESCRITURADOR</td>\n",
       "      <td>6098</td>\n",
       "    </tr>\n",
       "    <tr>\n",
       "      <th>...</th>\n",
       "      <td>...</td>\n",
       "      <td>...</td>\n",
       "      <td>...</td>\n",
       "      <td>...</td>\n",
       "      <td>...</td>\n",
       "    </tr>\n",
       "    <tr>\n",
       "      <th>28952</th>\n",
       "      <td>97711801000105</td>\n",
       "      <td>953 FICFIM CREDITO PRIVADO INVESTIMENTO NO EXT...</td>\n",
       "      <td>NaN</td>\n",
       "      <td>SEGMENTO BALCAO</td>\n",
       "      <td>13753.00-7</td>\n",
       "    </tr>\n",
       "    <tr>\n",
       "      <th>28953</th>\n",
       "      <td>97837181000147</td>\n",
       "      <td>DEXCO S.A</td>\n",
       "      <td>NaN</td>\n",
       "      <td>SEGMENTO BALCAO</td>\n",
       "      <td>26320.40-3</td>\n",
       "    </tr>\n",
       "    <tr>\n",
       "      <th>28954</th>\n",
       "      <td>97929213000134</td>\n",
       "      <td>WHG SISTEMA II FUNDO DE INVESTIMENTO MULTIMERC...</td>\n",
       "      <td>NaN</td>\n",
       "      <td>SEGMENTO BALCAO</td>\n",
       "      <td>13565.00-6</td>\n",
       "    </tr>\n",
       "    <tr>\n",
       "      <th>28955</th>\n",
       "      <td>98102924000101</td>\n",
       "      <td>DELTASUL UTILIDADES LTDA</td>\n",
       "      <td>NaN</td>\n",
       "      <td>SEGMENTO BALCAO</td>\n",
       "      <td>42836.40-7</td>\n",
       "    </tr>\n",
       "    <tr>\n",
       "      <th>28956</th>\n",
       "      <td>99999999999999</td>\n",
       "      <td>ICECCP</td>\n",
       "      <td>NaN</td>\n",
       "      <td>SEGMENTO BALCAO</td>\n",
       "      <td>77777777-7 - 88889.88-9</td>\n",
       "    </tr>\n",
       "  </tbody>\n",
       "</table>\n",
       "<p>28957 rows × 5 columns</p>\n",
       "</div>"
      ],
      "text/plain": [
       "                 CNPJ                                               Nome  \\\n",
       "0                 191                                BANCO DO BRASIL S/A   \n",
       "1                 191                                BANCO DO BRASIL S/A   \n",
       "2                 191                                BANCO DO BRASIL S/A   \n",
       "3                 191                                BANCO DO BRASIL S/A   \n",
       "4                 191                                BANCO DO BRASIL S/A   \n",
       "...               ...                                                ...   \n",
       "28952  97711801000105  953 FICFIM CREDITO PRIVADO INVESTIMENTO NO EXT...   \n",
       "28953  97837181000147                                          DEXCO S.A   \n",
       "28954  97929213000134  WHG SISTEMA II FUNDO DE INVESTIMENTO MULTIMERC...   \n",
       "28955  98102924000101                           DELTASUL UTILIDADES LTDA   \n",
       "28956  99999999999999                                             ICECCP   \n",
       "\n",
       "                Site                  Perfil  \\\n",
       "0      www.bb.com.br  ADMINISTRADOR iMERCADO   \n",
       "1      www.bb.com.br      AGENTE DE CUSTÓDIA   \n",
       "2      www.bb.com.br      CUSTODIANTE BALCÃO   \n",
       "3      www.bb.com.br   EMITENTE DE GARANTIAS   \n",
       "4      www.bb.com.br            ESCRITURADOR   \n",
       "...              ...                     ...   \n",
       "28952            NaN         SEGMENTO BALCAO   \n",
       "28953            NaN         SEGMENTO BALCAO   \n",
       "28954            NaN         SEGMENTO BALCAO   \n",
       "28955            NaN         SEGMENTO BALCAO   \n",
       "28956            NaN         SEGMENTO BALCAO   \n",
       "\n",
       "                                                  Código  \n",
       "0                                            1124 - 2659  \n",
       "1      254 - 705 - 1123 - 1124 - 1126 - 1345 - 2659 -...  \n",
       "2                                             254 - 1123  \n",
       "3                                                  10001  \n",
       "4                                                   6098  \n",
       "...                                                  ...  \n",
       "28952                                         13753.00-7  \n",
       "28953                                         26320.40-3  \n",
       "28954                                         13565.00-6  \n",
       "28955                                         42836.40-7  \n",
       "28956                            77777777-7 - 88889.88-9  \n",
       "\n",
       "[28957 rows x 5 columns]"
      ]
     },
     "execution_count": 13,
     "metadata": {},
     "output_type": "execute_result"
    }
   ],
   "source": [
    "codigo_participantes_B3"
   ]
  },
  {
   "cell_type": "markdown",
   "metadata": {},
   "source": [
    "### 2.3. Limpeza e enriquecimento dos dados"
   ]
  },
  {
   "cell_type": "markdown",
   "metadata": {},
   "source": [
    "#### 2.3.1. Dados de negociações"
   ]
  },
  {
   "cell_type": "markdown",
   "metadata": {},
   "source": [
    "Função change_dtypes:\n",
    "1. Coluna \"DataReferencia\" para datetime;\n",
    "2. Substituir NaN nas colunas \"CodigoParticipanteComprador\" e \"CodigoParticipanteVendedor\" para 0;\n",
    "2. Colunas \"CodigoParticipanteComprador\" e \"CodigoParticipanteVendedor\" para int (remover casas decimais) e depois para str;\n",
    "3. Coluna \"PrecoNegocio\" para float;"
   ]
  },
  {
   "cell_type": "code",
   "execution_count": 19,
   "metadata": {},
   "outputs": [
    {
     "data": {
      "text/html": [
       "<div>\n",
       "<style scoped>\n",
       "    .dataframe tbody tr th:only-of-type {\n",
       "        vertical-align: middle;\n",
       "    }\n",
       "\n",
       "    .dataframe tbody tr th {\n",
       "        vertical-align: top;\n",
       "    }\n",
       "\n",
       "    .dataframe thead th {\n",
       "        text-align: right;\n",
       "    }\n",
       "</style>\n",
       "<table border=\"1\" class=\"dataframe\">\n",
       "  <thead>\n",
       "    <tr style=\"text-align: right;\">\n",
       "      <th></th>\n",
       "      <th>DataReferencia</th>\n",
       "      <th>CodigoInstrumento</th>\n",
       "      <th>AcaoAtualizacao</th>\n",
       "      <th>PrecoNegocio</th>\n",
       "      <th>QuantidadeNegociada</th>\n",
       "      <th>HoraFechamento</th>\n",
       "      <th>CodigoIdentificadorNegocio</th>\n",
       "      <th>TipoSessaoPregao</th>\n",
       "      <th>DataNegocio</th>\n",
       "      <th>CodigoParticipanteComprador</th>\n",
       "      <th>CodigoParticipanteVendedor</th>\n",
       "    </tr>\n",
       "  </thead>\n",
       "  <tbody>\n",
       "    <tr>\n",
       "      <th>0</th>\n",
       "      <td>2024-07-04</td>\n",
       "      <td>TF583R</td>\n",
       "      <td>0</td>\n",
       "      <td>10,000</td>\n",
       "      <td>10000</td>\n",
       "      <td>30136837</td>\n",
       "      <td>10</td>\n",
       "      <td>1</td>\n",
       "      <td>2024-07-04</td>\n",
       "      <td>100.0</td>\n",
       "      <td>100.0</td>\n",
       "    </tr>\n",
       "    <tr>\n",
       "      <th>1</th>\n",
       "      <td>2024-07-04</td>\n",
       "      <td>WSPU24</td>\n",
       "      <td>0</td>\n",
       "      <td>5598,250</td>\n",
       "      <td>1</td>\n",
       "      <td>90000007</td>\n",
       "      <td>10</td>\n",
       "      <td>1</td>\n",
       "      <td>2024-07-04</td>\n",
       "      <td>3.0</td>\n",
       "      <td>3.0</td>\n",
       "    </tr>\n",
       "    <tr>\n",
       "      <th>2</th>\n",
       "      <td>2024-07-04</td>\n",
       "      <td>BGIN24</td>\n",
       "      <td>0</td>\n",
       "      <td>235,050</td>\n",
       "      <td>2</td>\n",
       "      <td>90000463</td>\n",
       "      <td>50</td>\n",
       "      <td>1</td>\n",
       "      <td>2024-07-04</td>\n",
       "      <td>NaN</td>\n",
       "      <td>NaN</td>\n",
       "    </tr>\n",
       "    <tr>\n",
       "      <th>3</th>\n",
       "      <td>2024-07-04</td>\n",
       "      <td>CCMN24</td>\n",
       "      <td>0</td>\n",
       "      <td>56,300</td>\n",
       "      <td>1</td>\n",
       "      <td>90000517</td>\n",
       "      <td>230</td>\n",
       "      <td>1</td>\n",
       "      <td>2024-07-04</td>\n",
       "      <td>NaN</td>\n",
       "      <td>NaN</td>\n",
       "    </tr>\n",
       "    <tr>\n",
       "      <th>4</th>\n",
       "      <td>2024-07-04</td>\n",
       "      <td>CCMN24</td>\n",
       "      <td>0</td>\n",
       "      <td>56,140</td>\n",
       "      <td>1</td>\n",
       "      <td>90000547</td>\n",
       "      <td>240</td>\n",
       "      <td>1</td>\n",
       "      <td>2024-07-04</td>\n",
       "      <td>NaN</td>\n",
       "      <td>NaN</td>\n",
       "    </tr>\n",
       "    <tr>\n",
       "      <th>...</th>\n",
       "      <td>...</td>\n",
       "      <td>...</td>\n",
       "      <td>...</td>\n",
       "      <td>...</td>\n",
       "      <td>...</td>\n",
       "      <td>...</td>\n",
       "      <td>...</td>\n",
       "      <td>...</td>\n",
       "      <td>...</td>\n",
       "      <td>...</td>\n",
       "      <td>...</td>\n",
       "    </tr>\n",
       "    <tr>\n",
       "      <th>7867012</th>\n",
       "      <td>2024-07-04</td>\n",
       "      <td>INDQ24</td>\n",
       "      <td>0</td>\n",
       "      <td>127510,000</td>\n",
       "      <td>5</td>\n",
       "      <td>183118570</td>\n",
       "      <td>94990</td>\n",
       "      <td>1</td>\n",
       "      <td>2024-07-04</td>\n",
       "      <td>88.0</td>\n",
       "      <td>107.0</td>\n",
       "    </tr>\n",
       "    <tr>\n",
       "      <th>7867013</th>\n",
       "      <td>2024-07-04</td>\n",
       "      <td>INDQ24</td>\n",
       "      <td>0</td>\n",
       "      <td>127510,000</td>\n",
       "      <td>5</td>\n",
       "      <td>183118570</td>\n",
       "      <td>95000</td>\n",
       "      <td>1</td>\n",
       "      <td>2024-07-04</td>\n",
       "      <td>88.0</td>\n",
       "      <td>107.0</td>\n",
       "    </tr>\n",
       "    <tr>\n",
       "      <th>7867014</th>\n",
       "      <td>2024-07-04</td>\n",
       "      <td>INDQ24</td>\n",
       "      <td>0</td>\n",
       "      <td>127510,000</td>\n",
       "      <td>5</td>\n",
       "      <td>183118570</td>\n",
       "      <td>95010</td>\n",
       "      <td>1</td>\n",
       "      <td>2024-07-04</td>\n",
       "      <td>83.0</td>\n",
       "      <td>107.0</td>\n",
       "    </tr>\n",
       "    <tr>\n",
       "      <th>7867015</th>\n",
       "      <td>2024-07-04</td>\n",
       "      <td>INDQ24</td>\n",
       "      <td>0</td>\n",
       "      <td>127510,000</td>\n",
       "      <td>5</td>\n",
       "      <td>183118570</td>\n",
       "      <td>95020</td>\n",
       "      <td>1</td>\n",
       "      <td>2024-07-04</td>\n",
       "      <td>308.0</td>\n",
       "      <td>107.0</td>\n",
       "    </tr>\n",
       "    <tr>\n",
       "      <th>7867016</th>\n",
       "      <td>2024-07-04</td>\n",
       "      <td>INDQ24</td>\n",
       "      <td>0</td>\n",
       "      <td>127510,000</td>\n",
       "      <td>5</td>\n",
       "      <td>183118570</td>\n",
       "      <td>95030</td>\n",
       "      <td>1</td>\n",
       "      <td>2024-07-04</td>\n",
       "      <td>308.0</td>\n",
       "      <td>93.0</td>\n",
       "    </tr>\n",
       "  </tbody>\n",
       "</table>\n",
       "<p>7867017 rows × 11 columns</p>\n",
       "</div>"
      ],
      "text/plain": [
       "        DataReferencia CodigoInstrumento  AcaoAtualizacao PrecoNegocio  \\\n",
       "0           2024-07-04            TF583R                0       10,000   \n",
       "1           2024-07-04            WSPU24                0     5598,250   \n",
       "2           2024-07-04            BGIN24                0      235,050   \n",
       "3           2024-07-04            CCMN24                0       56,300   \n",
       "4           2024-07-04            CCMN24                0       56,140   \n",
       "...                ...               ...              ...          ...   \n",
       "7867012     2024-07-04            INDQ24                0   127510,000   \n",
       "7867013     2024-07-04            INDQ24                0   127510,000   \n",
       "7867014     2024-07-04            INDQ24                0   127510,000   \n",
       "7867015     2024-07-04            INDQ24                0   127510,000   \n",
       "7867016     2024-07-04            INDQ24                0   127510,000   \n",
       "\n",
       "         QuantidadeNegociada  HoraFechamento  CodigoIdentificadorNegocio  \\\n",
       "0                      10000        30136837                          10   \n",
       "1                          1        90000007                          10   \n",
       "2                          2        90000463                          50   \n",
       "3                          1        90000517                         230   \n",
       "4                          1        90000547                         240   \n",
       "...                      ...             ...                         ...   \n",
       "7867012                    5       183118570                       94990   \n",
       "7867013                    5       183118570                       95000   \n",
       "7867014                    5       183118570                       95010   \n",
       "7867015                    5       183118570                       95020   \n",
       "7867016                    5       183118570                       95030   \n",
       "\n",
       "         TipoSessaoPregao DataNegocio  CodigoParticipanteComprador  \\\n",
       "0                       1  2024-07-04                        100.0   \n",
       "1                       1  2024-07-04                          3.0   \n",
       "2                       1  2024-07-04                          NaN   \n",
       "3                       1  2024-07-04                          NaN   \n",
       "4                       1  2024-07-04                          NaN   \n",
       "...                   ...         ...                          ...   \n",
       "7867012                 1  2024-07-04                         88.0   \n",
       "7867013                 1  2024-07-04                         88.0   \n",
       "7867014                 1  2024-07-04                         83.0   \n",
       "7867015                 1  2024-07-04                        308.0   \n",
       "7867016                 1  2024-07-04                        308.0   \n",
       "\n",
       "         CodigoParticipanteVendedor  \n",
       "0                             100.0  \n",
       "1                               3.0  \n",
       "2                               NaN  \n",
       "3                               NaN  \n",
       "4                               NaN  \n",
       "...                             ...  \n",
       "7867012                       107.0  \n",
       "7867013                       107.0  \n",
       "7867014                       107.0  \n",
       "7867015                       107.0  \n",
       "7867016                        93.0  \n",
       "\n",
       "[7867017 rows x 11 columns]"
      ]
     },
     "execution_count": 19,
     "metadata": {},
     "output_type": "execute_result"
    }
   ],
   "source": [
    "df_tick_dia1"
   ]
  },
  {
   "cell_type": "code",
   "execution_count": 29,
   "metadata": {},
   "outputs": [],
   "source": [
    "def change_dtypes(df):\n",
    "    df['DataReferencia'] = pd.to_datetime(df['DataReferencia'])\n",
    "    df[['CodigoParticipanteComprador','CodigoParticipanteVendedor']] = df[['CodigoParticipanteComprador','CodigoParticipanteVendedor']].fillna(0)\n",
    "    df[['CodigoParticipanteComprador','CodigoParticipanteVendedor']] = df[['CodigoParticipanteComprador','CodigoParticipanteVendedor']].astype('int').astype('str')\n",
    "    df['PrecoNegocio'] = df.PrecoNegocio.str.replace(\",\", \".\").astype('float')"
   ]
  },
  {
   "cell_type": "markdown",
   "metadata": {},
   "source": [
    "Função change_HoraFechamento:\n",
    "1. Tranforma coluna \"HoraFechamento\" em str e completa com zero no inicio para que todos tenham 9 caracteres;\n",
    "2. Remove os últimos 3 caracteres (milisegundos)\n",
    "3. Tranforma em time (H:M:S)"
   ]
  },
  {
   "cell_type": "code",
   "execution_count": 30,
   "metadata": {},
   "outputs": [],
   "source": [
    "def change_HoraFechamento(df):\n",
    "    df['HoraFechamento'] = df['HoraFechamento'].astype(str).str.zfill(9)\n",
    "    df['HoraFechamento'] = df['HoraFechamento'].str[:-3]\n",
    "    df['HoraFechamento'] = pd.to_datetime(df['HoraFechamento'], format='%H%M%S').dt.time"
   ]
  },
  {
   "cell_type": "markdown",
   "metadata": {},
   "source": [
    "Função remove_useless_data:\n",
    "1. Filtrar linhas que representam negócios cancelados (\"AcaoAtualizacao\"=2);\n",
    "2. Manter apenas as colunas desejadas:\n",
    "    * \"DataReferencia\",\n",
    "    * \"CodigoInstrumento\",\n",
    "    * \"PrecoNegocio\",\n",
    "    * \"QuantidadeNegociada\",\n",
    "    * \"HoraFechamento\",\n",
    "    * \"CodigoParticipanteComprador\",\n",
    "    * \"CodigoParticipanteVendedor\""
   ]
  },
  {
   "cell_type": "code",
   "execution_count": 31,
   "metadata": {},
   "outputs": [],
   "source": [
    "def remove_useless_data(df):\n",
    "    df = df[df.AcaoAtualizacao!=2]\n",
    "    df = df[['DataReferencia', 'CodigoInstrumento', 'PrecoNegocio', \n",
    "             'QuantidadeNegociada', 'HoraFechamento', \n",
    "             'CodigoParticipanteComprador', 'CodigoParticipanteVendedor']]\n",
    "    return df"
   ]
  },
  {
   "cell_type": "markdown",
   "metadata": {},
   "source": [
    "Função cleaning_tick_data_parquet:\n",
    "1. Carregar todos os arquivos parquet da pasta como dataframe;\n",
    "2. Executar a função \"change_dtypes\";\n",
    "3. Executar a função \"change_HoraFechamento\";\n",
    "4. Executar a função \"remove_useless_data\" que retorna um novo dataframe;\n",
    "5. Salva um novo arquivo parquet com todas as modificaçoes, renomeado sem o ínicio \"raw_\";\n",
    "5. Deleta o arquivo parquet de dados brutos"
   ]
  },
  {
   "cell_type": "code",
   "execution_count": 35,
   "metadata": {},
   "outputs": [],
   "source": [
    "def cleaning_tick_data_parquet():\n",
    "    folder_ref = os.getcwd()\n",
    "    files = os.listdir(folder_ref)\n",
    "    files_parquet = [i for i in files if i.endswith('.parquet') & i.startswith('raw_')]\n",
    "\n",
    "    for i in files_parquet:\n",
    "        df = pd.read_parquet(i, engine='pyarrow')\n",
    "        change_dtypes(df)\n",
    "        change_HoraFechamento(df)\n",
    "        cleaned_df = remove_useless_data(df)\n",
    "        cleaned_df.to_parquet(i[4:])\n",
    "        os.remove(i)"
   ]
  },
  {
   "cell_type": "code",
   "execution_count": 36,
   "metadata": {},
   "outputs": [],
   "source": [
    "cleaning_tick_data_parquet()"
   ]
  },
  {
   "cell_type": "markdown",
   "metadata": {},
   "source": [
    "#### 2.3.2. Dados dos participantes"
   ]
  },
  {
   "cell_type": "markdown",
   "metadata": {},
   "source": [
    "Função cleaning_participantes:\n",
    "1. Filtrar \"PARTICIPANTE DE NEGOCIAÇÃO PLENO\" na coluna \"Perfil\";\n",
    "2. Manter colunas \"Nome\" e \"Código\";\n",
    "3. Manter apenas o primeiro código do participante (poucos mantêm dois códigos que estão separados por -);\n",
    "4. Incluir última linha com Nome = \"NÃO IDENTIFICADO\" e Código = '0'\n",
    "5. Renomear coluna \"Código\" para \"Participante_index\"\n",
    "6. Resetar o índice"
   ]
  },
  {
   "cell_type": "code",
   "execution_count": 37,
   "metadata": {},
   "outputs": [],
   "source": [
    "def cleaning_participantes(df):\n",
    "    df = df[df.Perfil=='PARTICIPANTE DE NEGOCIAÇÃO PLENO']\n",
    "    df = df[['Nome', 'Código']]\n",
    "    cleaned_index = codigo_participantes_B3['Código'].str.split(' -', n=1, expand=True)[0]\n",
    "    df['Código'] = cleaned_index\n",
    "    df.loc[len(df)] = [\"NAO IDENTIFICADO\", '0']\n",
    "    df = df.rename(columns={\"Código\": \"Participante_index\"})\n",
    "    df = df.reset_index(drop=True)\n",
    "    df.to_parquet('cleaned_participantes_index.parquet')"
   ]
  },
  {
   "cell_type": "code",
   "execution_count": 38,
   "metadata": {},
   "outputs": [],
   "source": [
    "cleaning_participantes(codigo_participantes_B3)"
   ]
  },
  {
   "cell_type": "markdown",
   "metadata": {},
   "source": [
    "### 2.4. Testes de integridade, validação e agregação entre os databases"
   ]
  },
  {
   "cell_type": "markdown",
   "metadata": {},
   "source": [
    "É importante garantir que os dados estejam realmente prontos para serem carregados. Esses testes são críticos para garantir que os dados que serão carregados estejam disponíveis para análise de maneira eficiente e confiável. Por exemplo, vamos testar se um conjunto de dados de negociação diária conseguem se relacionar com o conjunto de dados dos participantes B3"
   ]
  },
  {
   "cell_type": "code",
   "execution_count": 39,
   "metadata": {},
   "outputs": [
    {
     "data": {
      "text/html": [
       "<div>\n",
       "<style scoped>\n",
       "    .dataframe tbody tr th:only-of-type {\n",
       "        vertical-align: middle;\n",
       "    }\n",
       "\n",
       "    .dataframe tbody tr th {\n",
       "        vertical-align: top;\n",
       "    }\n",
       "\n",
       "    .dataframe thead th {\n",
       "        text-align: right;\n",
       "    }\n",
       "</style>\n",
       "<table border=\"1\" class=\"dataframe\">\n",
       "  <thead>\n",
       "    <tr style=\"text-align: right;\">\n",
       "      <th></th>\n",
       "      <th>DataReferencia</th>\n",
       "      <th>CodigoInstrumento</th>\n",
       "      <th>CodigoParticipanteComprador</th>\n",
       "      <th>Nome</th>\n",
       "      <th>Participante_index</th>\n",
       "    </tr>\n",
       "  </thead>\n",
       "  <tbody>\n",
       "    <tr>\n",
       "      <th>0</th>\n",
       "      <td>2024-07-04</td>\n",
       "      <td>TF583R</td>\n",
       "      <td>100</td>\n",
       "      <td>NaN</td>\n",
       "      <td>NaN</td>\n",
       "    </tr>\n",
       "    <tr>\n",
       "      <th>1</th>\n",
       "      <td>2024-07-04</td>\n",
       "      <td>WSPU24</td>\n",
       "      <td>3</td>\n",
       "      <td>XP INVESTIMENTOS CCTVM S/A</td>\n",
       "      <td>3</td>\n",
       "    </tr>\n",
       "    <tr>\n",
       "      <th>2</th>\n",
       "      <td>2024-07-04</td>\n",
       "      <td>BGIN24</td>\n",
       "      <td>0</td>\n",
       "      <td>NAO IDENTIFICADO</td>\n",
       "      <td>0</td>\n",
       "    </tr>\n",
       "    <tr>\n",
       "      <th>3</th>\n",
       "      <td>2024-07-04</td>\n",
       "      <td>CCMN24</td>\n",
       "      <td>0</td>\n",
       "      <td>NAO IDENTIFICADO</td>\n",
       "      <td>0</td>\n",
       "    </tr>\n",
       "    <tr>\n",
       "      <th>4</th>\n",
       "      <td>2024-07-04</td>\n",
       "      <td>CCMN24</td>\n",
       "      <td>0</td>\n",
       "      <td>NAO IDENTIFICADO</td>\n",
       "      <td>0</td>\n",
       "    </tr>\n",
       "    <tr>\n",
       "      <th>...</th>\n",
       "      <td>...</td>\n",
       "      <td>...</td>\n",
       "      <td>...</td>\n",
       "      <td>...</td>\n",
       "      <td>...</td>\n",
       "    </tr>\n",
       "    <tr>\n",
       "      <th>7867005</th>\n",
       "      <td>2024-07-04</td>\n",
       "      <td>INDQ24</td>\n",
       "      <td>88</td>\n",
       "      <td>CM CAPITAL MARKETS CORRETORA DE CÂMBIO  TÍTULO...</td>\n",
       "      <td>88</td>\n",
       "    </tr>\n",
       "    <tr>\n",
       "      <th>7867006</th>\n",
       "      <td>2024-07-04</td>\n",
       "      <td>INDQ24</td>\n",
       "      <td>88</td>\n",
       "      <td>CM CAPITAL MARKETS CORRETORA DE CÂMBIO  TÍTULO...</td>\n",
       "      <td>88</td>\n",
       "    </tr>\n",
       "    <tr>\n",
       "      <th>7867007</th>\n",
       "      <td>2024-07-04</td>\n",
       "      <td>INDQ24</td>\n",
       "      <td>83</td>\n",
       "      <td>MASTER S/A CCTVM</td>\n",
       "      <td>83</td>\n",
       "    </tr>\n",
       "    <tr>\n",
       "      <th>7867008</th>\n",
       "      <td>2024-07-04</td>\n",
       "      <td>INDQ24</td>\n",
       "      <td>308</td>\n",
       "      <td>CLEAR CORRETORA - GRUPO XP E VALORES MOBI</td>\n",
       "      <td>308</td>\n",
       "    </tr>\n",
       "    <tr>\n",
       "      <th>7867009</th>\n",
       "      <td>2024-07-04</td>\n",
       "      <td>INDQ24</td>\n",
       "      <td>308</td>\n",
       "      <td>CLEAR CORRETORA - GRUPO XP E VALORES MOBI</td>\n",
       "      <td>308</td>\n",
       "    </tr>\n",
       "  </tbody>\n",
       "</table>\n",
       "<p>7867010 rows × 5 columns</p>\n",
       "</div>"
      ],
      "text/plain": [
       "        DataReferencia CodigoInstrumento CodigoParticipanteComprador  \\\n",
       "0           2024-07-04            TF583R                         100   \n",
       "1           2024-07-04            WSPU24                           3   \n",
       "2           2024-07-04            BGIN24                           0   \n",
       "3           2024-07-04            CCMN24                           0   \n",
       "4           2024-07-04            CCMN24                           0   \n",
       "...                ...               ...                         ...   \n",
       "7867005     2024-07-04            INDQ24                          88   \n",
       "7867006     2024-07-04            INDQ24                          88   \n",
       "7867007     2024-07-04            INDQ24                          83   \n",
       "7867008     2024-07-04            INDQ24                         308   \n",
       "7867009     2024-07-04            INDQ24                         308   \n",
       "\n",
       "                                                      Nome Participante_index  \n",
       "0                                                      NaN                NaN  \n",
       "1                               XP INVESTIMENTOS CCTVM S/A                  3  \n",
       "2                                         NAO IDENTIFICADO                  0  \n",
       "3                                         NAO IDENTIFICADO                  0  \n",
       "4                                         NAO IDENTIFICADO                  0  \n",
       "...                                                    ...                ...  \n",
       "7867005  CM CAPITAL MARKETS CORRETORA DE CÂMBIO  TÍTULO...                 88  \n",
       "7867006  CM CAPITAL MARKETS CORRETORA DE CÂMBIO  TÍTULO...                 88  \n",
       "7867007                                   MASTER S/A CCTVM                 83  \n",
       "7867008          CLEAR CORRETORA - GRUPO XP E VALORES MOBI                308  \n",
       "7867009          CLEAR CORRETORA - GRUPO XP E VALORES MOBI                308  \n",
       "\n",
       "[7867010 rows x 5 columns]"
      ]
     },
     "execution_count": 39,
     "metadata": {},
     "output_type": "execute_result"
    }
   ],
   "source": [
    "participantes_B3 = pd.read_parquet('cleaned_participantes_index.parquet', engine='pyarrow')\n",
    "df_tick_dia1 = pd.read_parquet('2024_07_04_tick_B3.parquet', engine='pyarrow')\n",
    "\n",
    "merged_df = df_tick_dia1[['DataReferencia', \n",
    "                          'CodigoInstrumento', \n",
    "                          'CodigoParticipanteComprador']].merge(participantes_B3, \n",
    "                                                                how='left', \n",
    "                                                                left_on='CodigoParticipanteComprador', \n",
    "                                                                right_on='Participante_index')\n",
    "\n",
    "merged_df"
   ]
  },
  {
   "cell_type": "markdown",
   "metadata": {},
   "source": [
    "## 3. Load (carga)"
   ]
  },
  {
   "cell_type": "markdown",
   "metadata": {},
   "source": [
    "A etapa Load (carga) no processo ETL é a fase final onde os dados transformados serão carregados para o destino final. Esse destino pode ser um data warehouse, um data lake, um banco de dados específico, ou qualquer outra estrutura de armazenamento de dados destinada a análise e relatórios.\n",
    "\n",
    "É fundamental entender os métodos de carga. Por exemplo, se for uma carga completa, todos os dados de uma vez no destino, substituindo qualquer dado existente. É usada principalmente para cargas iniciais ou quando a atualização incremental não é viável. Já numa carga incremental, apenas os dados novos ou modificados desde a última carga serão carregados."
   ]
  },
  {
   "cell_type": "markdown",
   "metadata": {},
   "source": [
    "### 3.1. Conectar com um database"
   ]
  },
  {
   "cell_type": "markdown",
   "metadata": {},
   "source": [
    "Nesse exemplo vamos criar um database SQL local, ou seja, na própria pasta onde estamos executando o código. Dessa forma, não será um database em nuvem (que pode exigir custos de armazenamento e execuções. Essa pasta poderia ser uma pasta compartilhada em intranet por ex., para permitir que outros usuários também explorem os dados."
   ]
  },
  {
   "cell_type": "code",
   "execution_count": 13,
   "metadata": {},
   "outputs": [],
   "source": [
    "connection = sqlite3.connect('database_negociacoes_B3.db')\n",
    "cursor = connection.cursor()"
   ]
  },
  {
   "cell_type": "markdown",
   "metadata": {},
   "source": [
    "Observe em sua pasta que um \"Data Base File (.db)\" foi criado mas tem tamanho de arquivo 0."
   ]
  },
  {
   "cell_type": "markdown",
   "metadata": {},
   "source": [
    "### 3.2. Carga inicial (completa) do database"
   ]
  },
  {
   "cell_type": "markdown",
   "metadata": {},
   "source": [
    "Nosso database SQL será composto de duas tabelas: participantes_B3 e negociacoes_diarias."
   ]
  },
  {
   "cell_type": "markdown",
   "metadata": {},
   "source": [
    "### 3.2.1. Dados dos participantes"
   ]
  },
  {
   "cell_type": "markdown",
   "metadata": {},
   "source": [
    "No caso de participantes_B3, é uma tabela que será carregada apenas uma vez, na primeira rotina. Carregaremos o arquivo parquet como dataframe e incluiremos no nosso database_negociacoes_B3. O nome desta tabela no \"database_negociacoes_B3\".db será \"Participantes_B3\"."
   ]
  },
  {
   "cell_type": "code",
   "execution_count": 4,
   "metadata": {},
   "outputs": [
    {
     "data": {
      "text/plain": [
       "93"
      ]
     },
     "execution_count": 4,
     "metadata": {},
     "output_type": "execute_result"
    }
   ],
   "source": [
    "df_participantes_B3 = pd.read_parquet('cleaned_participantes_index.parquet', engine='pyarrow')\n",
    "df_participantes_B3.to_sql(name='Participantes_B3', con=connection, index=False)"
   ]
  },
  {
   "cell_type": "markdown",
   "metadata": {},
   "source": [
    "Veja que agora o arquivo database_negociacoes_B3.db já não tem tamanho 0 mais"
   ]
  },
  {
   "cell_type": "markdown",
   "metadata": {},
   "source": [
    "### 3.2.1.1. Testar consultas (queries) ao database criado"
   ]
  },
  {
   "cell_type": "markdown",
   "metadata": {},
   "source": [
    "Aqui precisamos entender um pouco sobre linguagem SQL. Entretanto as explicações dessa linguagem fogem do nosso escopo Python.\n",
    "\n",
    "Vamos fazer três consultas rápidas:\n",
    "\n",
    "1. Obter os primeiros 5 dados da tabela\n",
    "2. Obter nome do participante que tem o index '16'"
   ]
  },
  {
   "cell_type": "code",
   "execution_count": 69,
   "metadata": {},
   "outputs": [
    {
     "data": {
      "text/plain": [
       "[('BANCO DO BRASIL S/A', '20017'),\n",
       " ('BANCO CENTRAL DO BRASIL', '810'),\n",
       " ('BANCO B3 S.A.', '500'),\n",
       " ('BANCO RABOBANK INTERNATIONAL BRASIL S/A', '50054'),\n",
       " ('BANCO COOPERATIVO SICREDI S/A', '50087')]"
      ]
     },
     "execution_count": 69,
     "metadata": {},
     "output_type": "execute_result"
    }
   ],
   "source": [
    "query = \"\"\"\n",
    "SELECT * \n",
    "FROM Participantes_B3 LIMIT 5\n",
    "\"\"\"\n",
    "\n",
    "cursor.execute(query)\n",
    "cursor.fetchall()"
   ]
  },
  {
   "cell_type": "code",
   "execution_count": 70,
   "metadata": {},
   "outputs": [
    {
     "data": {
      "text/plain": [
       "('J.P. MORGAN CCVM S/A', '16')"
      ]
     },
     "execution_count": 70,
     "metadata": {},
     "output_type": "execute_result"
    }
   ],
   "source": [
    "query = \"\"\"\n",
    "SELECT * \n",
    "FROM Participantes_B3\n",
    "WHERE Participante_index = '16'\n",
    "\"\"\"\n",
    "\n",
    "cursor.execute(query)\n",
    "cursor.fetchone()"
   ]
  },
  {
   "cell_type": "markdown",
   "metadata": {},
   "source": [
    "### 3.2.2. Dados de negociações"
   ]
  },
  {
   "cell_type": "markdown",
   "metadata": {},
   "source": [
    "#### 3.2.2.1. Carga completa dados de negociações"
   ]
  },
  {
   "cell_type": "markdown",
   "metadata": {},
   "source": [
    "Para fins didáticos, vamos imaginar que tivéssemos apenas os dados de negociações dos três primeiros dias da nossa rotina de Extração e Transformação.\n",
    "\n",
    "Vamos carregar os arquivos parquets como dataframes, concatenar e incluir no nosso database_negociacoes_B3 com o nome da Tabela \"Negociacoes_diarias\""
   ]
  },
  {
   "cell_type": "code",
   "execution_count": 52,
   "metadata": {},
   "outputs": [],
   "source": [
    "negociacoes_dia1 = pd.read_parquet('2024_07_01_tick_B3.parquet', engine='pyarrow')\n",
    "negociacoes_dia2 = pd.read_parquet('2024_07_02_tick_B3.parquet', engine='pyarrow')\n",
    "negociacoes_dia3 = pd.read_parquet('2024_07_03_tick_B3.parquet', engine='pyarrow')"
   ]
  },
  {
   "cell_type": "code",
   "execution_count": 54,
   "metadata": {},
   "outputs": [
    {
     "data": {
      "text/html": [
       "<div>\n",
       "<style scoped>\n",
       "    .dataframe tbody tr th:only-of-type {\n",
       "        vertical-align: middle;\n",
       "    }\n",
       "\n",
       "    .dataframe tbody tr th {\n",
       "        vertical-align: top;\n",
       "    }\n",
       "\n",
       "    .dataframe thead th {\n",
       "        text-align: right;\n",
       "    }\n",
       "</style>\n",
       "<table border=\"1\" class=\"dataframe\">\n",
       "  <thead>\n",
       "    <tr style=\"text-align: right;\">\n",
       "      <th></th>\n",
       "      <th>DataReferencia</th>\n",
       "      <th>CodigoInstrumento</th>\n",
       "      <th>PrecoNegocio</th>\n",
       "      <th>QuantidadeNegociada</th>\n",
       "      <th>HoraFechamento</th>\n",
       "      <th>CodigoParticipanteComprador</th>\n",
       "      <th>CodigoParticipanteVendedor</th>\n",
       "    </tr>\n",
       "  </thead>\n",
       "  <tbody>\n",
       "    <tr>\n",
       "      <th>0</th>\n",
       "      <td>2024-07-01</td>\n",
       "      <td>TF583R</td>\n",
       "      <td>10.00</td>\n",
       "      <td>10000</td>\n",
       "      <td>03:22:17</td>\n",
       "      <td>100</td>\n",
       "      <td>100</td>\n",
       "    </tr>\n",
       "    <tr>\n",
       "      <th>1</th>\n",
       "      <td>2024-07-01</td>\n",
       "      <td>WSPU24</td>\n",
       "      <td>5537.00</td>\n",
       "      <td>1</td>\n",
       "      <td>09:00:00</td>\n",
       "      <td>3</td>\n",
       "      <td>3</td>\n",
       "    </tr>\n",
       "    <tr>\n",
       "      <th>2</th>\n",
       "      <td>2024-07-01</td>\n",
       "      <td>WSPU24</td>\n",
       "      <td>5537.00</td>\n",
       "      <td>1</td>\n",
       "      <td>09:00:00</td>\n",
       "      <td>3</td>\n",
       "      <td>3</td>\n",
       "    </tr>\n",
       "    <tr>\n",
       "      <th>3</th>\n",
       "      <td>2024-07-01</td>\n",
       "      <td>WSPU24</td>\n",
       "      <td>5537.00</td>\n",
       "      <td>1</td>\n",
       "      <td>09:00:00</td>\n",
       "      <td>8</td>\n",
       "      <td>3</td>\n",
       "    </tr>\n",
       "    <tr>\n",
       "      <th>4</th>\n",
       "      <td>2024-07-01</td>\n",
       "      <td>WSPU24</td>\n",
       "      <td>5538.00</td>\n",
       "      <td>1</td>\n",
       "      <td>09:00:00</td>\n",
       "      <td>8</td>\n",
       "      <td>3</td>\n",
       "    </tr>\n",
       "    <tr>\n",
       "      <th>...</th>\n",
       "      <td>...</td>\n",
       "      <td>...</td>\n",
       "      <td>...</td>\n",
       "      <td>...</td>\n",
       "      <td>...</td>\n",
       "      <td>...</td>\n",
       "      <td>...</td>\n",
       "    </tr>\n",
       "    <tr>\n",
       "      <th>30868115</th>\n",
       "      <td>2024-07-03</td>\n",
       "      <td>INDQ24</td>\n",
       "      <td>127540.00</td>\n",
       "      <td>5</td>\n",
       "      <td>18:31:25</td>\n",
       "      <td>88</td>\n",
       "      <td>1099</td>\n",
       "    </tr>\n",
       "    <tr>\n",
       "      <th>30868116</th>\n",
       "      <td>2024-07-03</td>\n",
       "      <td>INDQ24</td>\n",
       "      <td>127540.00</td>\n",
       "      <td>5</td>\n",
       "      <td>18:31:25</td>\n",
       "      <td>83</td>\n",
       "      <td>3</td>\n",
       "    </tr>\n",
       "    <tr>\n",
       "      <th>30868117</th>\n",
       "      <td>2024-07-03</td>\n",
       "      <td>INDQ24</td>\n",
       "      <td>127540.00</td>\n",
       "      <td>5</td>\n",
       "      <td>18:31:25</td>\n",
       "      <td>83</td>\n",
       "      <td>88</td>\n",
       "    </tr>\n",
       "    <tr>\n",
       "      <th>30868118</th>\n",
       "      <td>2024-07-03</td>\n",
       "      <td>INDQ24</td>\n",
       "      <td>127540.00</td>\n",
       "      <td>5</td>\n",
       "      <td>18:31:25</td>\n",
       "      <td>120</td>\n",
       "      <td>114</td>\n",
       "    </tr>\n",
       "    <tr>\n",
       "      <th>30868119</th>\n",
       "      <td>2024-07-03</td>\n",
       "      <td>FRCF25</td>\n",
       "      <td>6.58</td>\n",
       "      <td>1300</td>\n",
       "      <td>18:32:27</td>\n",
       "      <td>88</td>\n",
       "      <td>88</td>\n",
       "    </tr>\n",
       "  </tbody>\n",
       "</table>\n",
       "<p>30868120 rows × 7 columns</p>\n",
       "</div>"
      ],
      "text/plain": [
       "         DataReferencia CodigoInstrumento  PrecoNegocio  QuantidadeNegociada  \\\n",
       "0            2024-07-01            TF583R         10.00                10000   \n",
       "1            2024-07-01            WSPU24       5537.00                    1   \n",
       "2            2024-07-01            WSPU24       5537.00                    1   \n",
       "3            2024-07-01            WSPU24       5537.00                    1   \n",
       "4            2024-07-01            WSPU24       5538.00                    1   \n",
       "...                 ...               ...           ...                  ...   \n",
       "30868115     2024-07-03            INDQ24     127540.00                    5   \n",
       "30868116     2024-07-03            INDQ24     127540.00                    5   \n",
       "30868117     2024-07-03            INDQ24     127540.00                    5   \n",
       "30868118     2024-07-03            INDQ24     127540.00                    5   \n",
       "30868119     2024-07-03            FRCF25          6.58                 1300   \n",
       "\n",
       "         HoraFechamento CodigoParticipanteComprador CodigoParticipanteVendedor  \n",
       "0              03:22:17                         100                        100  \n",
       "1              09:00:00                           3                          3  \n",
       "2              09:00:00                           3                          3  \n",
       "3              09:00:00                           8                          3  \n",
       "4              09:00:00                           8                          3  \n",
       "...                 ...                         ...                        ...  \n",
       "30868115       18:31:25                          88                       1099  \n",
       "30868116       18:31:25                          83                          3  \n",
       "30868117       18:31:25                          83                         88  \n",
       "30868118       18:31:25                         120                        114  \n",
       "30868119       18:32:27                          88                         88  \n",
       "\n",
       "[30868120 rows x 7 columns]"
      ]
     },
     "execution_count": 54,
     "metadata": {},
     "output_type": "execute_result"
    }
   ],
   "source": [
    "negociacoes = pd.concat([negociacoes_dia1, negociacoes_dia2, negociacoes_dia3], ignore_index=True)\n",
    "negociacoes"
   ]
  },
  {
   "cell_type": "markdown",
   "metadata": {},
   "source": [
    "Veja que já estamos falando em 30 milhões de linhas. Quer ficar preso apenas ao Excel? ;)\n",
    "\n",
    "Agora a carga completa destes dados"
   ]
  },
  {
   "cell_type": "code",
   "execution_count": 55,
   "metadata": {},
   "outputs": [
    {
     "data": {
      "text/plain": [
       "30868120"
      ]
     },
     "execution_count": 55,
     "metadata": {},
     "output_type": "execute_result"
    }
   ],
   "source": [
    "negociacoes.to_sql(name='Negociacoes_diarias', con=connection, index=False)"
   ]
  },
  {
   "cell_type": "markdown",
   "metadata": {},
   "source": [
    "### 3.3. Fechar conexão com um database"
   ]
  },
  {
   "cell_type": "markdown",
   "metadata": {},
   "source": [
    "Como finalizamos a carga, é importante fechar a conexão com nosso Banco de Dados"
   ]
  },
  {
   "cell_type": "code",
   "execution_count": 56,
   "metadata": {},
   "outputs": [],
   "source": [
    "connection.close()"
   ]
  },
  {
   "cell_type": "markdown",
   "metadata": {},
   "source": [
    "### 3.4. Carga incremental do database"
   ]
  },
  {
   "cell_type": "markdown",
   "metadata": {},
   "source": [
    "Novamente para fins didáticos, vamos imaginar que executamos novamente a rotina de extração e transformação dos dados de negociações para um quarto dia."
   ]
  },
  {
   "cell_type": "markdown",
   "metadata": {},
   "source": [
    "Primeiro vamos reestabeler a conexão Python-Database"
   ]
  },
  {
   "cell_type": "code",
   "execution_count": 29,
   "metadata": {},
   "outputs": [],
   "source": [
    "connection = sqlite3.connect('database_negociacoes_B3.db')\n",
    "cursor = connection.cursor()"
   ]
  },
  {
   "cell_type": "markdown",
   "metadata": {},
   "source": [
    "Carregar os dados do quarto dia"
   ]
  },
  {
   "cell_type": "code",
   "execution_count": null,
   "metadata": {},
   "outputs": [],
   "source": [
    "negociacoes_dia4 = pd.read_parquet('2024_07_04_tick_B3.parquet', engine='pyarrow')\n",
    "negociacoes_dia4.to_sql(name='Tabela_incremental', con=connection, index=False)"
   ]
  },
  {
   "cell_type": "markdown",
   "metadata": {},
   "source": [
    "Observe que agora temos 3 tabelas no Database"
   ]
  },
  {
   "cell_type": "code",
   "execution_count": 31,
   "metadata": {},
   "outputs": [
    {
     "name": "stdout",
     "output_type": "stream",
     "text": [
      "                  name\n",
      "0     Participantes_B3\n",
      "1  Negociacoes_diarias\n",
      "2   Tabela_incremental\n"
     ]
    }
   ],
   "source": [
    "print(pd.read_sql_query(\"SELECT name FROM sqlite_master WHERE type='table';\", connection))"
   ]
  },
  {
   "cell_type": "markdown",
   "metadata": {},
   "source": [
    "Vamos unir as duas através de queries. Primeiro vamos checar o tamanho das duas tabelas"
   ]
  },
  {
   "cell_type": "code",
   "execution_count": 32,
   "metadata": {},
   "outputs": [
    {
     "data": {
      "text/plain": [
       "[(38735130,)]"
      ]
     },
     "execution_count": 32,
     "metadata": {},
     "output_type": "execute_result"
    }
   ],
   "source": [
    "query = \"\"\"\n",
    "SELECT count('DataReferencia')\n",
    "FROM Negociacoes_diarias\n",
    "\"\"\"\n",
    "\n",
    "cursor.execute(query)\n",
    "cursor.fetchall()"
   ]
  },
  {
   "cell_type": "markdown",
   "metadata": {},
   "source": [
    "Note que temos mais de 30 milhões de linhas. Agora mesma query para a Tabela_incremental"
   ]
  },
  {
   "cell_type": "code",
   "execution_count": 24,
   "metadata": {},
   "outputs": [
    {
     "name": "stdout",
     "output_type": "stream",
     "text": [
      "[(7867010,)]\n"
     ]
    }
   ],
   "source": [
    "query = \"\"\"\n",
    "SELECT count('DataReferencia')\n",
    "FROM Tabela_incremental\n",
    "\"\"\"\n",
    "\n",
    "cursor.execute(query)\n",
    "\n",
    "df_participantes = cursor.fetchall()\n",
    "print(df_participantes)"
   ]
  },
  {
   "cell_type": "markdown",
   "metadata": {},
   "source": [
    "Quase 8 milhões de linhas. Agora uma query para unir as duas tabelas verticalmente"
   ]
  },
  {
   "cell_type": "code",
   "execution_count": 25,
   "metadata": {},
   "outputs": [
    {
     "data": {
      "text/plain": [
       "<sqlite3.Cursor at 0x223a18bafc0>"
      ]
     },
     "execution_count": 25,
     "metadata": {},
     "output_type": "execute_result"
    }
   ],
   "source": [
    "query = \"\"\"\n",
    "INSERT INTO Negociacoes_diarias\n",
    "SELECT *\n",
    "FROM Tabela_incremental;\n",
    "\"\"\"\n",
    "\n",
    "cursor.execute(query)"
   ]
  },
  {
   "cell_type": "markdown",
   "metadata": {},
   "source": [
    "Vemos que as tabelas foram concatenadas"
   ]
  },
  {
   "cell_type": "code",
   "execution_count": 33,
   "metadata": {},
   "outputs": [
    {
     "data": {
      "text/plain": [
       "[(38735130,)]"
      ]
     },
     "execution_count": 33,
     "metadata": {},
     "output_type": "execute_result"
    }
   ],
   "source": [
    "query = \"\"\"\n",
    "SELECT count('DataReferencia')\n",
    "FROM Negociacoes_diarias\n",
    "\"\"\"\n",
    "\n",
    "cursor.execute(query)\n",
    "cursor.fetchall()"
   ]
  },
  {
   "cell_type": "markdown",
   "metadata": {},
   "source": [
    "Por fim, podemos remover a Tabela_incremental do nosso database e fechar a conexão"
   ]
  },
  {
   "cell_type": "code",
   "execution_count": 34,
   "metadata": {},
   "outputs": [
    {
     "name": "stdout",
     "output_type": "stream",
     "text": [
      "                  name\n",
      "0     Participantes_B3\n",
      "1  Negociacoes_diarias\n",
      "2   Tabela_incremental\n"
     ]
    }
   ],
   "source": [
    "print(pd.read_sql_query(\"SELECT name FROM sqlite_master WHERE type='table';\", connection))"
   ]
  },
  {
   "cell_type": "code",
   "execution_count": 35,
   "metadata": {},
   "outputs": [
    {
     "data": {
      "text/plain": [
       "<sqlite3.Cursor at 0x223a18b8540>"
      ]
     },
     "execution_count": 35,
     "metadata": {},
     "output_type": "execute_result"
    }
   ],
   "source": [
    "query = \"\"\"\n",
    "DROP TABLE Tabela_incremental\n",
    "\"\"\"\n",
    "\n",
    "cursor.execute(query)"
   ]
  },
  {
   "cell_type": "code",
   "execution_count": 36,
   "metadata": {},
   "outputs": [
    {
     "name": "stdout",
     "output_type": "stream",
     "text": [
      "                  name\n",
      "0     Participantes_B3\n",
      "1  Negociacoes_diarias\n"
     ]
    }
   ],
   "source": [
    "print(pd.read_sql_query(\"SELECT name FROM sqlite_master WHERE type='table';\", connection))"
   ]
  },
  {
   "cell_type": "markdown",
   "metadata": {},
   "source": [
    "Enviar as modificações e fechar conexão"
   ]
  },
  {
   "cell_type": "code",
   "execution_count": null,
   "metadata": {},
   "outputs": [],
   "source": [
    "connection.commit()\n",
    "connection.close()"
   ]
  }
 ],
 "metadata": {
  "kernelspec": {
   "display_name": "Python 3",
   "language": "python",
   "name": "python3"
  },
  "language_info": {
   "codemirror_mode": {
    "name": "ipython",
    "version": 3
   },
   "file_extension": ".py",
   "mimetype": "text/x-python",
   "name": "python",
   "nbconvert_exporter": "python",
   "pygments_lexer": "ipython3",
   "version": "3.12.3"
  }
 },
 "nbformat": 4,
 "nbformat_minor": 2
}
